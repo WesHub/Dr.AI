{
  "cells": [
    {
      "cell_type": "markdown",
      "id": "6f49cb10-f895-41f4-aa97-da606d0084d4",
      "metadata": {
        "id": "6f49cb10-f895-41f4-aa97-da606d0084d4"
      },
      "source": [
        "## Setup"
      ]
    },
    {
      "cell_type": "code",
      "execution_count": null,
      "id": "32036e70",
      "metadata": {
        "colab": {
          "base_uri": "https://localhost:8080/"
        },
        "id": "32036e70",
        "outputId": "42a489e2-0dab-43fc-b170-e19387d4bad7"
      },
      "outputs": [
        {
          "name": "stdout",
          "output_type": "stream",
          "text": [
            "Collecting openai\n",
            "  Downloading openai-1.28.1-py3-none-any.whl (320 kB)\n",
            "\u001b[?25l     \u001b[90m━━━━━━━━━━━━━━━━━━━━━━━━━━━━━━━━━━━━━━━━\u001b[0m \u001b[32m0.0/320.1 kB\u001b[0m \u001b[31m?\u001b[0m eta \u001b[36m-:--:--\u001b[0m\r\u001b[2K     \u001b[91m━━━━━━━━━━━━━━━━━━━━\u001b[0m\u001b[90m╺\u001b[0m\u001b[90m━━━━━━━━━━━━━━━━━━━\u001b[0m \u001b[32m163.8/320.1 kB\u001b[0m \u001b[31m4.7 MB/s\u001b[0m eta \u001b[36m0:00:01\u001b[0m\r\u001b[2K     \u001b[90m━━━━━━━━━━━━━━━━━━━━━━━━━━━━━━━━━━━━━━━━\u001b[0m \u001b[32m320.1/320.1 kB\u001b[0m \u001b[31m6.4 MB/s\u001b[0m eta \u001b[36m0:00:00\u001b[0m\n",
            "\u001b[?25hRequirement already satisfied: anyio<5,>=3.5.0 in /usr/local/lib/python3.10/dist-packages (from openai) (3.7.1)\n",
            "Requirement already satisfied: distro<2,>=1.7.0 in /usr/lib/python3/dist-packages (from openai) (1.7.0)\n",
            "Collecting httpx<1,>=0.23.0 (from openai)\n",
            "  Downloading httpx-0.27.0-py3-none-any.whl (75 kB)\n",
            "\u001b[2K     \u001b[90m━━━━━━━━━━━━━━━━━━━━━━━━━━━━━━━━━━━━━━━━\u001b[0m \u001b[32m75.6/75.6 kB\u001b[0m \u001b[31m9.1 MB/s\u001b[0m eta \u001b[36m0:00:00\u001b[0m\n",
            "\u001b[?25hRequirement already satisfied: pydantic<3,>=1.9.0 in /usr/local/lib/python3.10/dist-packages (from openai) (2.7.1)\n",
            "Requirement already satisfied: sniffio in /usr/local/lib/python3.10/dist-packages (from openai) (1.3.1)\n",
            "Requirement already satisfied: tqdm>4 in /usr/local/lib/python3.10/dist-packages (from openai) (4.66.4)\n",
            "Requirement already satisfied: typing-extensions<5,>=4.7 in /usr/local/lib/python3.10/dist-packages (from openai) (4.11.0)\n",
            "Requirement already satisfied: idna>=2.8 in /usr/local/lib/python3.10/dist-packages (from anyio<5,>=3.5.0->openai) (3.7)\n",
            "Requirement already satisfied: exceptiongroup in /usr/local/lib/python3.10/dist-packages (from anyio<5,>=3.5.0->openai) (1.2.1)\n",
            "Requirement already satisfied: certifi in /usr/local/lib/python3.10/dist-packages (from httpx<1,>=0.23.0->openai) (2024.2.2)\n",
            "Collecting httpcore==1.* (from httpx<1,>=0.23.0->openai)\n",
            "  Downloading httpcore-1.0.5-py3-none-any.whl (77 kB)\n",
            "\u001b[2K     \u001b[90m━━━━━━━━━━━━━━━━━━━━━━━━━━━━━━━━━━━━━━━━\u001b[0m \u001b[32m77.9/77.9 kB\u001b[0m \u001b[31m11.0 MB/s\u001b[0m eta \u001b[36m0:00:00\u001b[0m\n",
            "\u001b[?25hCollecting h11<0.15,>=0.13 (from httpcore==1.*->httpx<1,>=0.23.0->openai)\n",
            "  Downloading h11-0.14.0-py3-none-any.whl (58 kB)\n",
            "\u001b[2K     \u001b[90m━━━━━━━━━━━━━━━━━━━━━━━━━━━━━━━━━━━━━━━━\u001b[0m \u001b[32m58.3/58.3 kB\u001b[0m \u001b[31m9.4 MB/s\u001b[0m eta \u001b[36m0:00:00\u001b[0m\n",
            "\u001b[?25hRequirement already satisfied: annotated-types>=0.4.0 in /usr/local/lib/python3.10/dist-packages (from pydantic<3,>=1.9.0->openai) (0.6.0)\n",
            "Requirement already satisfied: pydantic-core==2.18.2 in /usr/local/lib/python3.10/dist-packages (from pydantic<3,>=1.9.0->openai) (2.18.2)\n",
            "Installing collected packages: h11, httpcore, httpx, openai\n",
            "Successfully installed h11-0.14.0 httpcore-1.0.5 httpx-0.27.0 openai-1.28.1\n"
          ]
        }
      ],
      "source": [
        "# make sure to use the latest version of the openai python package\n",
        "!pip install --upgrade openai"
      ]
    },
    {
      "cell_type": "markdown",
      "id": "4Z6CubLEcJY5",
      "metadata": {
        "id": "4Z6CubLEcJY5"
      },
      "source": [
        "# Connect Database"
      ]
    },
    {
      "cell_type": "code",
      "execution_count": null,
      "id": "HH7NRMIVkS7G",
      "metadata": {
        "colab": {
          "base_uri": "https://localhost:8080/"
        },
        "id": "HH7NRMIVkS7G",
        "outputId": "464678dd-f707-410d-a846-682349740702"
      },
      "outputs": [
        {
          "name": "stdout",
          "output_type": "stream",
          "text": [
            "Mounted at /content/drive\n"
          ]
        }
      ],
      "source": [
        "from google.colab import files, drive\n",
        "\n",
        "drive.mount('/content/drive')"
      ]
    },
    {
      "cell_type": "markdown",
      "id": "WX0I_vvrcMif",
      "metadata": {
        "id": "WX0I_vvrcMif"
      },
      "source": [
        "# Open AI Connection"
      ]
    },
    {
      "cell_type": "code",
      "execution_count": null,
      "id": "6e1f4403-37e1-4115-a215-12fd7daa1eb6",
      "metadata": {
        "id": "6e1f4403-37e1-4115-a215-12fd7daa1eb6"
      },
      "outputs": [],
      "source": [
        "import json\n",
        "import openai\n",
        "import os\n",
        "import pandas as pd\n",
        "from pprint import pprint\n",
        "\n",
        "client = openai.OpenAI(api_key=os.environ.get(\"OPENAI_API_KEY\", \"\"))"
      ]
    },
    {
      "cell_type": "markdown",
      "id": "nv0kD3ajcRgV",
      "metadata": {
        "id": "nv0kD3ajcRgV"
      },
      "source": [
        "# Data Cleaning"
      ]
    },
    {
      "cell_type": "code",
      "execution_count": null,
      "id": "f57ebc23-14b7-47f9-90b8-1d791ccfc9bc",
      "metadata": {
        "colab": {
          "base_uri": "https://localhost:8080/",
          "height": 313
        },
        "id": "f57ebc23-14b7-47f9-90b8-1d791ccfc9bc",
        "outputId": "b513020c-a419-431b-8c47-d09b85472d8d"
      },
      "outputs": [
        {
          "data": {
            "application/vnd.google.colaboratory.intrinsic+json": {
              "summary": "{\n  \"name\": \"disease_df\",\n  \"rows\": 4920,\n  \"fields\": [\n    {\n      \"column\": \"Disease\",\n      \"properties\": {\n        \"dtype\": \"category\",\n        \"num_unique_values\": 41,\n        \"samples\": [\n          \"Alcoholic hepatitis\",\n          \"Paralysis (brain hemorrhage)\",\n          \"Gastroenteritis\"\n        ],\n        \"semantic_type\": \"\",\n        \"description\": \"\"\n      }\n    },\n    {\n      \"column\": \"Specialist\",\n      \"properties\": {\n        \"dtype\": \"category\",\n        \"num_unique_values\": 19,\n        \"samples\": [\n          \"Dermatologist\",\n          \"Endocrinologist\",\n          \"Common Cold\"\n        ],\n        \"semantic_type\": \"\",\n        \"description\": \"\"\n      }\n    },\n    {\n      \"column\": \"Symptom_1\",\n      \"properties\": {\n        \"dtype\": \"category\",\n        \"num_unique_values\": 34,\n        \"samples\": [\n          \"chest_pain\",\n          \"joint_pain\",\n          \"neck_pain\"\n        ],\n        \"semantic_type\": \"\",\n        \"description\": \"\"\n      }\n    },\n    {\n      \"column\": \"Symptom_2\",\n      \"properties\": {\n        \"dtype\": \"category\",\n        \"num_unique_values\": 48,\n        \"samples\": [\n          \"nausea\",\n          \"stiff_neck\",\n          \"lethargy\"\n        ],\n        \"semantic_type\": \"\",\n        \"description\": \"\"\n      }\n    },\n    {\n      \"column\": \"Symptom_3\",\n      \"properties\": {\n        \"dtype\": \"category\",\n        \"num_unique_values\": 54,\n        \"samples\": [\n          \"dizziness\",\n          \"continuous_feel_of_urine\",\n          \"foul_smell_of urine\"\n        ],\n        \"semantic_type\": \"\",\n        \"description\": \"\"\n      }\n    },\n    {\n      \"column\": \"Symptom_4\",\n      \"properties\": {\n        \"dtype\": \"category\",\n        \"num_unique_values\": 50,\n        \"samples\": [\n          \"diarrhoea\",\n          \"hip_joint_pain\",\n          \"swelling_of_stomach\"\n        ],\n        \"semantic_type\": \"\",\n        \"description\": \"\"\n      }\n    },\n    {\n      \"column\": \"Symptom_5\",\n      \"properties\": {\n        \"dtype\": \"category\",\n        \"num_unique_values\": 38,\n        \"samples\": [\n          \"painful_walking\",\n          \"inflammatory_nails\",\n          \"spotting_ urination\"\n        ],\n        \"semantic_type\": \"\",\n        \"description\": \"\"\n      }\n    },\n    {\n      \"column\": \"Symptom_6\",\n      \"properties\": {\n        \"dtype\": \"category\",\n        \"num_unique_values\": 32,\n        \"samples\": [\n          \"painful_walking\",\n          \"high_fever\",\n          \"swollen_blood_vessels\"\n        ],\n        \"semantic_type\": \"\",\n        \"description\": \"\"\n      }\n    },\n    {\n      \"column\": \"Symptom_7\",\n      \"properties\": {\n        \"dtype\": \"category\",\n        \"num_unique_values\": 26,\n        \"samples\": [\n          \"diarrhoea\",\n          \"breathlessness\",\n          \"yellowing_of_eyes\"\n        ],\n        \"semantic_type\": \"\",\n        \"description\": \"\"\n      }\n    },\n    {\n      \"column\": \"Symptom_8\",\n      \"properties\": {\n        \"dtype\": \"category\",\n        \"num_unique_values\": 21,\n        \"samples\": [\n          \"excessive_hunger\",\n          \"enlarged_thyroid\",\n          \"phlegm\"\n        ],\n        \"semantic_type\": \"\",\n        \"description\": \"\"\n      }\n    },\n    {\n      \"column\": \"Symptom_9\",\n      \"properties\": {\n        \"dtype\": \"category\",\n        \"num_unique_values\": 22,\n        \"samples\": [\n          \"increased_appetite\",\n          \"throat_irritation\",\n          \"diarrhoea\"\n        ],\n        \"semantic_type\": \"\",\n        \"description\": \"\"\n      }\n    },\n    {\n      \"column\": \"Symptom_10\",\n      \"properties\": {\n        \"dtype\": \"category\",\n        \"num_unique_values\": 21,\n        \"samples\": [\n          \"polyuria\",\n          \"depression\",\n          \"fast_heart_rate\"\n        ],\n        \"semantic_type\": \"\",\n        \"description\": \"\"\n      }\n    },\n    {\n      \"column\": \"Symptom_11\",\n      \"properties\": {\n        \"dtype\": \"category\",\n        \"num_unique_values\": 18,\n        \"samples\": [\n          \"red_spots_over_body\",\n          \"back_pain\",\n          \"acute_liver_failure\"\n        ],\n        \"semantic_type\": \"\",\n        \"description\": \"\"\n      }\n    },\n    {\n      \"column\": \"Symptom_12\",\n      \"properties\": {\n        \"dtype\": \"category\",\n        \"num_unique_values\": 11,\n        \"samples\": [\n          \"swelled_lymph_nodes\",\n          \"muscle_pain\",\n          \"abnormal_menstruation\"\n        ],\n        \"semantic_type\": \"\",\n        \"description\": \"\"\n      }\n    },\n    {\n      \"column\": \"Symptom_13\",\n      \"properties\": {\n        \"dtype\": \"category\",\n        \"num_unique_values\": 8,\n        \"samples\": [\n          \"muscle_pain\",\n          \"runny_nose\",\n          \"red_spots_over_body\"\n        ],\n        \"semantic_type\": \"\",\n        \"description\": \"\"\n      }\n    },\n    {\n      \"column\": \"Symptom_14\",\n      \"properties\": {\n        \"dtype\": \"category\",\n        \"num_unique_values\": 4,\n        \"samples\": [\n          \"phlegm\",\n          \"congestion\",\n          \"red_spots_over_body\"\n        ],\n        \"semantic_type\": \"\",\n        \"description\": \"\"\n      }\n    },\n    {\n      \"column\": \"Symptom_15\",\n      \"properties\": {\n        \"dtype\": \"category\",\n        \"num_unique_values\": 3,\n        \"samples\": [\n          \"chest_pain\",\n          \"blood_in_sputum\",\n          \"loss_of_smell\"\n        ],\n        \"semantic_type\": \"\",\n        \"description\": \"\"\n      }\n    },\n    {\n      \"column\": \"Symptom_16\",\n      \"properties\": {\n        \"dtype\": \"category\",\n        \"num_unique_values\": 3,\n        \"samples\": [\n          \"blood_in_sputum\",\n          \"loss_of_smell\",\n          \"muscle_pain\"\n        ],\n        \"semantic_type\": \"\",\n        \"description\": \"\"\n      }\n    },\n    {\n      \"column\": \"Symptom_17\",\n      \"properties\": {\n        \"dtype\": \"category\",\n        \"num_unique_values\": 1,\n        \"samples\": [\n          \"muscle_pain\"\n        ],\n        \"semantic_type\": \"\",\n        \"description\": \"\"\n      }\n    }\n  ]\n}",
              "type": "dataframe",
              "variable_name": "disease_df"
            },
            "text/html": [
              "\n",
              "  <div id=\"df-b336ef49-dc96-40dd-afb0-db7ec7fc3cf7\" class=\"colab-df-container\">\n",
              "    <div>\n",
              "<style scoped>\n",
              "    .dataframe tbody tr th:only-of-type {\n",
              "        vertical-align: middle;\n",
              "    }\n",
              "\n",
              "    .dataframe tbody tr th {\n",
              "        vertical-align: top;\n",
              "    }\n",
              "\n",
              "    .dataframe thead th {\n",
              "        text-align: right;\n",
              "    }\n",
              "</style>\n",
              "<table border=\"1\" class=\"dataframe\">\n",
              "  <thead>\n",
              "    <tr style=\"text-align: right;\">\n",
              "      <th></th>\n",
              "      <th>Disease</th>\n",
              "      <th>Specialist</th>\n",
              "      <th>Symptom_1</th>\n",
              "      <th>Symptom_2</th>\n",
              "      <th>Symptom_3</th>\n",
              "      <th>Symptom_4</th>\n",
              "      <th>Symptom_5</th>\n",
              "      <th>Symptom_6</th>\n",
              "      <th>Symptom_7</th>\n",
              "      <th>Symptom_8</th>\n",
              "      <th>Symptom_9</th>\n",
              "      <th>Symptom_10</th>\n",
              "      <th>Symptom_11</th>\n",
              "      <th>Symptom_12</th>\n",
              "      <th>Symptom_13</th>\n",
              "      <th>Symptom_14</th>\n",
              "      <th>Symptom_15</th>\n",
              "      <th>Symptom_16</th>\n",
              "      <th>Symptom_17</th>\n",
              "    </tr>\n",
              "  </thead>\n",
              "  <tbody>\n",
              "    <tr>\n",
              "      <th>0</th>\n",
              "      <td>Fungal infection</td>\n",
              "      <td>Dermatologist</td>\n",
              "      <td>itching</td>\n",
              "      <td>skin_rash</td>\n",
              "      <td>nodal_skin_eruptions</td>\n",
              "      <td>dischromic _patches</td>\n",
              "      <td>NaN</td>\n",
              "      <td>NaN</td>\n",
              "      <td>NaN</td>\n",
              "      <td>NaN</td>\n",
              "      <td>NaN</td>\n",
              "      <td>NaN</td>\n",
              "      <td>NaN</td>\n",
              "      <td>NaN</td>\n",
              "      <td>NaN</td>\n",
              "      <td>NaN</td>\n",
              "      <td>NaN</td>\n",
              "      <td>NaN</td>\n",
              "      <td>NaN</td>\n",
              "    </tr>\n",
              "    <tr>\n",
              "      <th>1</th>\n",
              "      <td>Fungal infection</td>\n",
              "      <td>Dermatologist</td>\n",
              "      <td>skin_rash</td>\n",
              "      <td>nodal_skin_eruptions</td>\n",
              "      <td>dischromic _patches</td>\n",
              "      <td>NaN</td>\n",
              "      <td>NaN</td>\n",
              "      <td>NaN</td>\n",
              "      <td>NaN</td>\n",
              "      <td>NaN</td>\n",
              "      <td>NaN</td>\n",
              "      <td>NaN</td>\n",
              "      <td>NaN</td>\n",
              "      <td>NaN</td>\n",
              "      <td>NaN</td>\n",
              "      <td>NaN</td>\n",
              "      <td>NaN</td>\n",
              "      <td>NaN</td>\n",
              "      <td>NaN</td>\n",
              "    </tr>\n",
              "    <tr>\n",
              "      <th>2</th>\n",
              "      <td>Fungal infection</td>\n",
              "      <td>Dermatologist</td>\n",
              "      <td>itching</td>\n",
              "      <td>nodal_skin_eruptions</td>\n",
              "      <td>dischromic _patches</td>\n",
              "      <td>NaN</td>\n",
              "      <td>NaN</td>\n",
              "      <td>NaN</td>\n",
              "      <td>NaN</td>\n",
              "      <td>NaN</td>\n",
              "      <td>NaN</td>\n",
              "      <td>NaN</td>\n",
              "      <td>NaN</td>\n",
              "      <td>NaN</td>\n",
              "      <td>NaN</td>\n",
              "      <td>NaN</td>\n",
              "      <td>NaN</td>\n",
              "      <td>NaN</td>\n",
              "      <td>NaN</td>\n",
              "    </tr>\n",
              "    <tr>\n",
              "      <th>3</th>\n",
              "      <td>Fungal infection</td>\n",
              "      <td>Dermatologist</td>\n",
              "      <td>itching</td>\n",
              "      <td>skin_rash</td>\n",
              "      <td>dischromic _patches</td>\n",
              "      <td>NaN</td>\n",
              "      <td>NaN</td>\n",
              "      <td>NaN</td>\n",
              "      <td>NaN</td>\n",
              "      <td>NaN</td>\n",
              "      <td>NaN</td>\n",
              "      <td>NaN</td>\n",
              "      <td>NaN</td>\n",
              "      <td>NaN</td>\n",
              "      <td>NaN</td>\n",
              "      <td>NaN</td>\n",
              "      <td>NaN</td>\n",
              "      <td>NaN</td>\n",
              "      <td>NaN</td>\n",
              "    </tr>\n",
              "    <tr>\n",
              "      <th>4</th>\n",
              "      <td>Fungal infection</td>\n",
              "      <td>Dermatologist</td>\n",
              "      <td>itching</td>\n",
              "      <td>skin_rash</td>\n",
              "      <td>nodal_skin_eruptions</td>\n",
              "      <td>NaN</td>\n",
              "      <td>NaN</td>\n",
              "      <td>NaN</td>\n",
              "      <td>NaN</td>\n",
              "      <td>NaN</td>\n",
              "      <td>NaN</td>\n",
              "      <td>NaN</td>\n",
              "      <td>NaN</td>\n",
              "      <td>NaN</td>\n",
              "      <td>NaN</td>\n",
              "      <td>NaN</td>\n",
              "      <td>NaN</td>\n",
              "      <td>NaN</td>\n",
              "      <td>NaN</td>\n",
              "    </tr>\n",
              "  </tbody>\n",
              "</table>\n",
              "</div>\n",
              "    <div class=\"colab-df-buttons\">\n",
              "\n",
              "  <div class=\"colab-df-container\">\n",
              "    <button class=\"colab-df-convert\" onclick=\"convertToInteractive('df-b336ef49-dc96-40dd-afb0-db7ec7fc3cf7')\"\n",
              "            title=\"Convert this dataframe to an interactive table.\"\n",
              "            style=\"display:none;\">\n",
              "\n",
              "  <svg xmlns=\"http://www.w3.org/2000/svg\" height=\"24px\" viewBox=\"0 -960 960 960\">\n",
              "    <path d=\"M120-120v-720h720v720H120Zm60-500h600v-160H180v160Zm220 220h160v-160H400v160Zm0 220h160v-160H400v160ZM180-400h160v-160H180v160Zm440 0h160v-160H620v160ZM180-180h160v-160H180v160Zm440 0h160v-160H620v160Z\"/>\n",
              "  </svg>\n",
              "    </button>\n",
              "\n",
              "  <style>\n",
              "    .colab-df-container {\n",
              "      display:flex;\n",
              "      gap: 12px;\n",
              "    }\n",
              "\n",
              "    .colab-df-convert {\n",
              "      background-color: #E8F0FE;\n",
              "      border: none;\n",
              "      border-radius: 50%;\n",
              "      cursor: pointer;\n",
              "      display: none;\n",
              "      fill: #1967D2;\n",
              "      height: 32px;\n",
              "      padding: 0 0 0 0;\n",
              "      width: 32px;\n",
              "    }\n",
              "\n",
              "    .colab-df-convert:hover {\n",
              "      background-color: #E2EBFA;\n",
              "      box-shadow: 0px 1px 2px rgba(60, 64, 67, 0.3), 0px 1px 3px 1px rgba(60, 64, 67, 0.15);\n",
              "      fill: #174EA6;\n",
              "    }\n",
              "\n",
              "    .colab-df-buttons div {\n",
              "      margin-bottom: 4px;\n",
              "    }\n",
              "\n",
              "    [theme=dark] .colab-df-convert {\n",
              "      background-color: #3B4455;\n",
              "      fill: #D2E3FC;\n",
              "    }\n",
              "\n",
              "    [theme=dark] .colab-df-convert:hover {\n",
              "      background-color: #434B5C;\n",
              "      box-shadow: 0px 1px 3px 1px rgba(0, 0, 0, 0.15);\n",
              "      filter: drop-shadow(0px 1px 2px rgba(0, 0, 0, 0.3));\n",
              "      fill: #FFFFFF;\n",
              "    }\n",
              "  </style>\n",
              "\n",
              "    <script>\n",
              "      const buttonEl =\n",
              "        document.querySelector('#df-b336ef49-dc96-40dd-afb0-db7ec7fc3cf7 button.colab-df-convert');\n",
              "      buttonEl.style.display =\n",
              "        google.colab.kernel.accessAllowed ? 'block' : 'none';\n",
              "\n",
              "      async function convertToInteractive(key) {\n",
              "        const element = document.querySelector('#df-b336ef49-dc96-40dd-afb0-db7ec7fc3cf7');\n",
              "        const dataTable =\n",
              "          await google.colab.kernel.invokeFunction('convertToInteractive',\n",
              "                                                    [key], {});\n",
              "        if (!dataTable) return;\n",
              "\n",
              "        const docLinkHtml = 'Like what you see? Visit the ' +\n",
              "          '<a target=\"_blank\" href=https://colab.research.google.com/notebooks/data_table.ipynb>data table notebook</a>'\n",
              "          + ' to learn more about interactive tables.';\n",
              "        element.innerHTML = '';\n",
              "        dataTable['output_type'] = 'display_data';\n",
              "        await google.colab.output.renderOutput(dataTable, element);\n",
              "        const docLink = document.createElement('div');\n",
              "        docLink.innerHTML = docLinkHtml;\n",
              "        element.appendChild(docLink);\n",
              "      }\n",
              "    </script>\n",
              "  </div>\n",
              "\n",
              "\n",
              "<div id=\"df-bbdea85c-5a37-4a47-ba40-6853ca08023a\">\n",
              "  <button class=\"colab-df-quickchart\" onclick=\"quickchart('df-bbdea85c-5a37-4a47-ba40-6853ca08023a')\"\n",
              "            title=\"Suggest charts\"\n",
              "            style=\"display:none;\">\n",
              "\n",
              "<svg xmlns=\"http://www.w3.org/2000/svg\" height=\"24px\"viewBox=\"0 0 24 24\"\n",
              "     width=\"24px\">\n",
              "    <g>\n",
              "        <path d=\"M19 3H5c-1.1 0-2 .9-2 2v14c0 1.1.9 2 2 2h14c1.1 0 2-.9 2-2V5c0-1.1-.9-2-2-2zM9 17H7v-7h2v7zm4 0h-2V7h2v10zm4 0h-2v-4h2v4z\"/>\n",
              "    </g>\n",
              "</svg>\n",
              "  </button>\n",
              "\n",
              "<style>\n",
              "  .colab-df-quickchart {\n",
              "      --bg-color: #E8F0FE;\n",
              "      --fill-color: #1967D2;\n",
              "      --hover-bg-color: #E2EBFA;\n",
              "      --hover-fill-color: #174EA6;\n",
              "      --disabled-fill-color: #AAA;\n",
              "      --disabled-bg-color: #DDD;\n",
              "  }\n",
              "\n",
              "  [theme=dark] .colab-df-quickchart {\n",
              "      --bg-color: #3B4455;\n",
              "      --fill-color: #D2E3FC;\n",
              "      --hover-bg-color: #434B5C;\n",
              "      --hover-fill-color: #FFFFFF;\n",
              "      --disabled-bg-color: #3B4455;\n",
              "      --disabled-fill-color: #666;\n",
              "  }\n",
              "\n",
              "  .colab-df-quickchart {\n",
              "    background-color: var(--bg-color);\n",
              "    border: none;\n",
              "    border-radius: 50%;\n",
              "    cursor: pointer;\n",
              "    display: none;\n",
              "    fill: var(--fill-color);\n",
              "    height: 32px;\n",
              "    padding: 0;\n",
              "    width: 32px;\n",
              "  }\n",
              "\n",
              "  .colab-df-quickchart:hover {\n",
              "    background-color: var(--hover-bg-color);\n",
              "    box-shadow: 0 1px 2px rgba(60, 64, 67, 0.3), 0 1px 3px 1px rgba(60, 64, 67, 0.15);\n",
              "    fill: var(--button-hover-fill-color);\n",
              "  }\n",
              "\n",
              "  .colab-df-quickchart-complete:disabled,\n",
              "  .colab-df-quickchart-complete:disabled:hover {\n",
              "    background-color: var(--disabled-bg-color);\n",
              "    fill: var(--disabled-fill-color);\n",
              "    box-shadow: none;\n",
              "  }\n",
              "\n",
              "  .colab-df-spinner {\n",
              "    border: 2px solid var(--fill-color);\n",
              "    border-color: transparent;\n",
              "    border-bottom-color: var(--fill-color);\n",
              "    animation:\n",
              "      spin 1s steps(1) infinite;\n",
              "  }\n",
              "\n",
              "  @keyframes spin {\n",
              "    0% {\n",
              "      border-color: transparent;\n",
              "      border-bottom-color: var(--fill-color);\n",
              "      border-left-color: var(--fill-color);\n",
              "    }\n",
              "    20% {\n",
              "      border-color: transparent;\n",
              "      border-left-color: var(--fill-color);\n",
              "      border-top-color: var(--fill-color);\n",
              "    }\n",
              "    30% {\n",
              "      border-color: transparent;\n",
              "      border-left-color: var(--fill-color);\n",
              "      border-top-color: var(--fill-color);\n",
              "      border-right-color: var(--fill-color);\n",
              "    }\n",
              "    40% {\n",
              "      border-color: transparent;\n",
              "      border-right-color: var(--fill-color);\n",
              "      border-top-color: var(--fill-color);\n",
              "    }\n",
              "    60% {\n",
              "      border-color: transparent;\n",
              "      border-right-color: var(--fill-color);\n",
              "    }\n",
              "    80% {\n",
              "      border-color: transparent;\n",
              "      border-right-color: var(--fill-color);\n",
              "      border-bottom-color: var(--fill-color);\n",
              "    }\n",
              "    90% {\n",
              "      border-color: transparent;\n",
              "      border-bottom-color: var(--fill-color);\n",
              "    }\n",
              "  }\n",
              "</style>\n",
              "\n",
              "  <script>\n",
              "    async function quickchart(key) {\n",
              "      const quickchartButtonEl =\n",
              "        document.querySelector('#' + key + ' button');\n",
              "      quickchartButtonEl.disabled = true;  // To prevent multiple clicks.\n",
              "      quickchartButtonEl.classList.add('colab-df-spinner');\n",
              "      try {\n",
              "        const charts = await google.colab.kernel.invokeFunction(\n",
              "            'suggestCharts', [key], {});\n",
              "      } catch (error) {\n",
              "        console.error('Error during call to suggestCharts:', error);\n",
              "      }\n",
              "      quickchartButtonEl.classList.remove('colab-df-spinner');\n",
              "      quickchartButtonEl.classList.add('colab-df-quickchart-complete');\n",
              "    }\n",
              "    (() => {\n",
              "      let quickchartButtonEl =\n",
              "        document.querySelector('#df-bbdea85c-5a37-4a47-ba40-6853ca08023a button');\n",
              "      quickchartButtonEl.style.display =\n",
              "        google.colab.kernel.accessAllowed ? 'block' : 'none';\n",
              "    })();\n",
              "  </script>\n",
              "</div>\n",
              "\n",
              "    </div>\n",
              "  </div>\n"
            ],
            "text/plain": [
              "            Disease     Specialist  Symptom_1             Symptom_2  \\\n",
              "0  Fungal infection  Dermatologist    itching             skin_rash   \n",
              "1  Fungal infection  Dermatologist  skin_rash  nodal_skin_eruptions   \n",
              "2  Fungal infection  Dermatologist    itching  nodal_skin_eruptions   \n",
              "3  Fungal infection  Dermatologist    itching             skin_rash   \n",
              "4  Fungal infection  Dermatologist    itching             skin_rash   \n",
              "\n",
              "              Symptom_3            Symptom_4 Symptom_5 Symptom_6 Symptom_7  \\\n",
              "0  nodal_skin_eruptions  dischromic _patches       NaN       NaN       NaN   \n",
              "1   dischromic _patches                  NaN       NaN       NaN       NaN   \n",
              "2   dischromic _patches                  NaN       NaN       NaN       NaN   \n",
              "3   dischromic _patches                  NaN       NaN       NaN       NaN   \n",
              "4  nodal_skin_eruptions                  NaN       NaN       NaN       NaN   \n",
              "\n",
              "  Symptom_8 Symptom_9 Symptom_10 Symptom_11 Symptom_12 Symptom_13 Symptom_14  \\\n",
              "0       NaN       NaN        NaN        NaN        NaN        NaN        NaN   \n",
              "1       NaN       NaN        NaN        NaN        NaN        NaN        NaN   \n",
              "2       NaN       NaN        NaN        NaN        NaN        NaN        NaN   \n",
              "3       NaN       NaN        NaN        NaN        NaN        NaN        NaN   \n",
              "4       NaN       NaN        NaN        NaN        NaN        NaN        NaN   \n",
              "\n",
              "  Symptom_15 Symptom_16 Symptom_17  \n",
              "0        NaN        NaN        NaN  \n",
              "1        NaN        NaN        NaN  \n",
              "2        NaN        NaN        NaN  \n",
              "3        NaN        NaN        NaN  \n",
              "4        NaN        NaN        NaN  "
            ]
          },
          "execution_count": 5,
          "metadata": {},
          "output_type": "execute_result"
        }
      ],
      "source": [
        "# Read in the dataset we'll use for this task.\n",
        "disease_df = pd.read_csv(\"Symptoms_Dataset.csv\")\n",
        "\n",
        "disease_df.head()"
      ]
    },
    {
      "cell_type": "code",
      "execution_count": null,
      "id": "HEhW3JVUxyjX",
      "metadata": {
        "colab": {
          "base_uri": "https://localhost:8080/"
        },
        "id": "HEhW3JVUxyjX",
        "outputId": "720394cc-0dd8-4feb-8647-16856973dad2"
      },
      "outputs": [
        {
          "name": "stdout",
          "output_type": "stream",
          "text": [
            "0       itching skin_rash nodal_skin_eruptions dischro...\n",
            "1       skin_rash nodal_skin_eruptions dischromic _pat...\n",
            "2        itching nodal_skin_eruptions dischromic _patches\n",
            "3                   itching skin_rash dischromic _patches\n",
            "4                  itching skin_rash nodal_skin_eruptions\n",
            "                              ...                        \n",
            "4915    vomiting headache nausea spinning_movements lo...\n",
            "4916     skin_rash pus_filled_pimples blackheads scurring\n",
            "4917    burning_micturition bladder_discomfort foul_sm...\n",
            "4918    skin_rash joint_pain skin_peeling silver_like_...\n",
            "4919    skin_rash high_fever blister red_sore_around_n...\n",
            "Name: Symptom, Length: 4920, dtype: object\n"
          ]
        }
      ],
      "source": [
        "def append_non_nan(row):\n",
        "    values = [str(val) for val in row[2:] if pd.notna(val)]\n",
        "    return ' '.join(values)\n",
        "\n",
        "disease_df['Symptom'] = disease_df.apply(append_non_nan, axis=1)\n",
        "print(disease_df['Symptom'])"
      ]
    },
    {
      "cell_type": "code",
      "execution_count": null,
      "id": "i3SMIh6b9QtP",
      "metadata": {
        "colab": {
          "base_uri": "https://localhost:8080/",
          "height": 400
        },
        "id": "i3SMIh6b9QtP",
        "outputId": "1a5af103-b9ec-463e-8dff-6d7249c1055f"
      },
      "outputs": [
        {
          "data": {
            "application/vnd.google.colaboratory.intrinsic+json": {
              "summary": "{\n  \"name\": \"disease_df_randomized\",\n  \"rows\": 4920,\n  \"fields\": [\n    {\n      \"column\": \"Disease\",\n      \"properties\": {\n        \"dtype\": \"category\",\n        \"num_unique_values\": 41,\n        \"samples\": [\n          \"Tuberculosis\",\n          \"Common Cold\",\n          \"Hepatitis D\"\n        ],\n        \"semantic_type\": \"\",\n        \"description\": \"\"\n      }\n    },\n    {\n      \"column\": \"Specialist\",\n      \"properties\": {\n        \"dtype\": \"category\",\n        \"num_unique_values\": 19,\n        \"samples\": [\n          \"Internal Medcine\",\n          \"Gastroenterologist\",\n          \"Otolaryngologist\"\n        ],\n        \"semantic_type\": \"\",\n        \"description\": \"\"\n      }\n    },\n    {\n      \"column\": \"Symptom_1\",\n      \"properties\": {\n        \"dtype\": \"category\",\n        \"num_unique_values\": 34,\n        \"samples\": [\n          \"muscle_wasting\",\n          \"back_pain\",\n          \"pain_during_bowel_movements\"\n        ],\n        \"semantic_type\": \"\",\n        \"description\": \"\"\n      }\n    },\n    {\n      \"column\": \"Symptom_2\",\n      \"properties\": {\n        \"dtype\": \"category\",\n        \"num_unique_values\": 48,\n        \"samples\": [\n          \"acidity\",\n          \"anxiety\",\n          \"blister\"\n        ],\n        \"semantic_type\": \"\",\n        \"description\": \"\"\n      }\n    },\n    {\n      \"column\": \"Symptom_3\",\n      \"properties\": {\n        \"dtype\": \"category\",\n        \"num_unique_values\": 54,\n        \"samples\": [\n          \"bruising\",\n          \"silver_like_dusting\",\n          \"obesity\"\n        ],\n        \"semantic_type\": \"\",\n        \"description\": \"\"\n      }\n    },\n    {\n      \"column\": \"Symptom_4\",\n      \"properties\": {\n        \"dtype\": \"category\",\n        \"num_unique_values\": 50,\n        \"samples\": [\n          \"cough\",\n          \"dischromic _patches\",\n          \"weight_loss\"\n        ],\n        \"semantic_type\": \"\",\n        \"description\": \"\"\n      }\n    },\n    {\n      \"column\": \"Symptom_5\",\n      \"properties\": {\n        \"dtype\": \"category\",\n        \"num_unique_values\": 38,\n        \"samples\": [\n          \"inflammatory_nails\",\n          \"stiff_neck\",\n          \"lethargy\"\n        ],\n        \"semantic_type\": \"\",\n        \"description\": \"\"\n      }\n    },\n    {\n      \"column\": \"Symptom_6\",\n      \"properties\": {\n        \"dtype\": \"category\",\n        \"num_unique_values\": 32,\n        \"samples\": [\n          \"yellowing_of_eyes\",\n          \"malaise\",\n          \"stiff_neck\"\n        ],\n        \"semantic_type\": \"\",\n        \"description\": \"\"\n      }\n    },\n    {\n      \"column\": \"Symptom_7\",\n      \"properties\": {\n        \"dtype\": \"category\",\n        \"num_unique_values\": 26,\n        \"samples\": [\n          \"muscle_pain\",\n          \"enlarged_thyroid\",\n          \"headache\"\n        ],\n        \"semantic_type\": \"\",\n        \"description\": \"\"\n      }\n    },\n    {\n      \"column\": \"Symptom_8\",\n      \"properties\": {\n        \"dtype\": \"category\",\n        \"num_unique_values\": 21,\n        \"samples\": [\n          \"nausea\",\n          \"mild_fever\",\n          \"drying_and_tingling_lips\"\n        ],\n        \"semantic_type\": \"\",\n        \"description\": \"\"\n      }\n    },\n    {\n      \"column\": \"Symptom_9\",\n      \"properties\": {\n        \"dtype\": \"category\",\n        \"num_unique_values\": 22,\n        \"samples\": [\n          \"loss_of_appetite\",\n          \"throat_irritation\",\n          \"fast_heart_rate\"\n        ],\n        \"semantic_type\": \"\",\n        \"description\": \"\"\n      }\n    },\n    {\n      \"column\": \"Symptom_10\",\n      \"properties\": {\n        \"dtype\": \"category\",\n        \"num_unique_values\": 21,\n        \"samples\": [\n          \"pain_behind_the_eyes\",\n          \"toxic_look_(typhos)\",\n          \"red_spots_over_body\"\n        ],\n        \"semantic_type\": \"\",\n        \"description\": \"\"\n      }\n    },\n    {\n      \"column\": \"Symptom_11\",\n      \"properties\": {\n        \"dtype\": \"category\",\n        \"num_unique_values\": 18,\n        \"samples\": [\n          \"back_pain\",\n          \"rusty_sputum\",\n          \"yellowing_of_eyes\"\n        ],\n        \"semantic_type\": \"\",\n        \"description\": \"\"\n      }\n    },\n    {\n      \"column\": \"Symptom_12\",\n      \"properties\": {\n        \"dtype\": \"category\",\n        \"num_unique_values\": 11,\n        \"samples\": [\n          \"abnormal_menstruation\",\n          \"malaise\",\n          \"coma\"\n        ],\n        \"semantic_type\": \"\",\n        \"description\": \"\"\n      }\n    },\n    {\n      \"column\": \"Symptom_13\",\n      \"properties\": {\n        \"dtype\": \"category\",\n        \"num_unique_values\": 8,\n        \"samples\": [\n          \"abnormal_menstruation\",\n          \"congestion\",\n          \"muscle_pain\"\n        ],\n        \"semantic_type\": \"\",\n        \"description\": \"\"\n      }\n    },\n    {\n      \"column\": \"Symptom_14\",\n      \"properties\": {\n        \"dtype\": \"category\",\n        \"num_unique_values\": 4,\n        \"samples\": [\n          \"congestion\",\n          \"phlegm\",\n          \"red_spots_over_body\"\n        ],\n        \"semantic_type\": \"\",\n        \"description\": \"\"\n      }\n    },\n    {\n      \"column\": \"Symptom_15\",\n      \"properties\": {\n        \"dtype\": \"category\",\n        \"num_unique_values\": 3,\n        \"samples\": [\n          \"chest_pain\",\n          \"blood_in_sputum\",\n          \"loss_of_smell\"\n        ],\n        \"semantic_type\": \"\",\n        \"description\": \"\"\n      }\n    },\n    {\n      \"column\": \"Symptom_16\",\n      \"properties\": {\n        \"dtype\": \"category\",\n        \"num_unique_values\": 3,\n        \"samples\": [\n          \"loss_of_smell\",\n          \"blood_in_sputum\",\n          \"muscle_pain\"\n        ],\n        \"semantic_type\": \"\",\n        \"description\": \"\"\n      }\n    },\n    {\n      \"column\": \"Symptom_17\",\n      \"properties\": {\n        \"dtype\": \"category\",\n        \"num_unique_values\": 1,\n        \"samples\": [\n          \"muscle_pain\"\n        ],\n        \"semantic_type\": \"\",\n        \"description\": \"\"\n      }\n    },\n    {\n      \"column\": \"Symptom\",\n      \"properties\": {\n        \"dtype\": \"category\",\n        \"num_unique_values\": 304,\n        \"samples\": [\n          \"vomiting indigestion loss_of_appetite abdominal_pain passage_of_gases\"\n        ],\n        \"semantic_type\": \"\",\n        \"description\": \"\"\n      }\n    }\n  ]\n}",
              "type": "dataframe",
              "variable_name": "disease_df_randomized"
            },
            "text/html": [
              "\n",
              "  <div id=\"df-0205d2ff-5a4b-4204-bf8b-f350c2d15127\" class=\"colab-df-container\">\n",
              "    <div>\n",
              "<style scoped>\n",
              "    .dataframe tbody tr th:only-of-type {\n",
              "        vertical-align: middle;\n",
              "    }\n",
              "\n",
              "    .dataframe tbody tr th {\n",
              "        vertical-align: top;\n",
              "    }\n",
              "\n",
              "    .dataframe thead th {\n",
              "        text-align: right;\n",
              "    }\n",
              "</style>\n",
              "<table border=\"1\" class=\"dataframe\">\n",
              "  <thead>\n",
              "    <tr style=\"text-align: right;\">\n",
              "      <th></th>\n",
              "      <th>Disease</th>\n",
              "      <th>Specialist</th>\n",
              "      <th>Symptom_1</th>\n",
              "      <th>Symptom_2</th>\n",
              "      <th>Symptom_3</th>\n",
              "      <th>Symptom_4</th>\n",
              "      <th>Symptom_5</th>\n",
              "      <th>Symptom_6</th>\n",
              "      <th>Symptom_7</th>\n",
              "      <th>Symptom_8</th>\n",
              "      <th>Symptom_9</th>\n",
              "      <th>Symptom_10</th>\n",
              "      <th>Symptom_11</th>\n",
              "      <th>Symptom_12</th>\n",
              "      <th>Symptom_13</th>\n",
              "      <th>Symptom_14</th>\n",
              "      <th>Symptom_15</th>\n",
              "      <th>Symptom_16</th>\n",
              "      <th>Symptom_17</th>\n",
              "      <th>Symptom</th>\n",
              "    </tr>\n",
              "  </thead>\n",
              "  <tbody>\n",
              "    <tr>\n",
              "      <th>3338</th>\n",
              "      <td>Dengue</td>\n",
              "      <td>Internal Medcine</td>\n",
              "      <td>skin_rash</td>\n",
              "      <td>chills</td>\n",
              "      <td>joint_pain</td>\n",
              "      <td>vomiting</td>\n",
              "      <td>fatigue</td>\n",
              "      <td>high_fever</td>\n",
              "      <td>headache</td>\n",
              "      <td>nausea</td>\n",
              "      <td>loss_of_appetite</td>\n",
              "      <td>pain_behind_the_eyes</td>\n",
              "      <td>back_pain</td>\n",
              "      <td>malaise</td>\n",
              "      <td>muscle_pain</td>\n",
              "      <td>red_spots_over_body</td>\n",
              "      <td>NaN</td>\n",
              "      <td>NaN</td>\n",
              "      <td>NaN</td>\n",
              "      <td>skin_rash chills joint_pain vomiting fatigue h...</td>\n",
              "    </tr>\n",
              "    <tr>\n",
              "      <th>2322</th>\n",
              "      <td>Pneumonia</td>\n",
              "      <td>Pulmonologist</td>\n",
              "      <td>chills</td>\n",
              "      <td>fatigue</td>\n",
              "      <td>cough</td>\n",
              "      <td>high_fever</td>\n",
              "      <td>breathlessness</td>\n",
              "      <td>sweating</td>\n",
              "      <td>malaise</td>\n",
              "      <td>phlegm</td>\n",
              "      <td>chest_pain</td>\n",
              "      <td>fast_heart_rate</td>\n",
              "      <td>rusty_sputum</td>\n",
              "      <td>NaN</td>\n",
              "      <td>NaN</td>\n",
              "      <td>NaN</td>\n",
              "      <td>NaN</td>\n",
              "      <td>NaN</td>\n",
              "      <td>NaN</td>\n",
              "      <td>chills fatigue cough high_fever breathlessness...</td>\n",
              "    </tr>\n",
              "    <tr>\n",
              "      <th>1336</th>\n",
              "      <td>Hypertension</td>\n",
              "      <td>Cardiologist</td>\n",
              "      <td>headache</td>\n",
              "      <td>chest_pain</td>\n",
              "      <td>dizziness</td>\n",
              "      <td>loss_of_balance</td>\n",
              "      <td>lack_of_concentration</td>\n",
              "      <td>NaN</td>\n",
              "      <td>NaN</td>\n",
              "      <td>NaN</td>\n",
              "      <td>NaN</td>\n",
              "      <td>NaN</td>\n",
              "      <td>NaN</td>\n",
              "      <td>NaN</td>\n",
              "      <td>NaN</td>\n",
              "      <td>NaN</td>\n",
              "      <td>NaN</td>\n",
              "      <td>NaN</td>\n",
              "      <td>NaN</td>\n",
              "      <td>headache chest_pain dizziness loss_of_balance ...</td>\n",
              "    </tr>\n",
              "    <tr>\n",
              "      <th>3738</th>\n",
              "      <td>Diabetes</td>\n",
              "      <td>Endocrinologist</td>\n",
              "      <td>fatigue</td>\n",
              "      <td>weight_loss</td>\n",
              "      <td>restlessness</td>\n",
              "      <td>lethargy</td>\n",
              "      <td>irregular_sugar_level</td>\n",
              "      <td>blurred_and_distorted_vision</td>\n",
              "      <td>obesity</td>\n",
              "      <td>excessive_hunger</td>\n",
              "      <td>increased_appetite</td>\n",
              "      <td>polyuria</td>\n",
              "      <td>NaN</td>\n",
              "      <td>NaN</td>\n",
              "      <td>NaN</td>\n",
              "      <td>NaN</td>\n",
              "      <td>NaN</td>\n",
              "      <td>NaN</td>\n",
              "      <td>NaN</td>\n",
              "      <td>fatigue weight_loss restlessness lethargy irre...</td>\n",
              "    </tr>\n",
              "    <tr>\n",
              "      <th>3270</th>\n",
              "      <td>Hypothyroidism</td>\n",
              "      <td>Endocrinologist</td>\n",
              "      <td>fatigue</td>\n",
              "      <td>weight_gain</td>\n",
              "      <td>cold_hands_and_feets</td>\n",
              "      <td>mood_swings</td>\n",
              "      <td>lethargy</td>\n",
              "      <td>dizziness</td>\n",
              "      <td>puffy_face_and_eyes</td>\n",
              "      <td>enlarged_thyroid</td>\n",
              "      <td>brittle_nails</td>\n",
              "      <td>swollen_extremeties</td>\n",
              "      <td>depression</td>\n",
              "      <td>irritability</td>\n",
              "      <td>abnormal_menstruation</td>\n",
              "      <td>NaN</td>\n",
              "      <td>NaN</td>\n",
              "      <td>NaN</td>\n",
              "      <td>NaN</td>\n",
              "      <td>fatigue weight_gain cold_hands_and_feets mood_...</td>\n",
              "    </tr>\n",
              "  </tbody>\n",
              "</table>\n",
              "</div>\n",
              "    <div class=\"colab-df-buttons\">\n",
              "\n",
              "  <div class=\"colab-df-container\">\n",
              "    <button class=\"colab-df-convert\" onclick=\"convertToInteractive('df-0205d2ff-5a4b-4204-bf8b-f350c2d15127')\"\n",
              "            title=\"Convert this dataframe to an interactive table.\"\n",
              "            style=\"display:none;\">\n",
              "\n",
              "  <svg xmlns=\"http://www.w3.org/2000/svg\" height=\"24px\" viewBox=\"0 -960 960 960\">\n",
              "    <path d=\"M120-120v-720h720v720H120Zm60-500h600v-160H180v160Zm220 220h160v-160H400v160Zm0 220h160v-160H400v160ZM180-400h160v-160H180v160Zm440 0h160v-160H620v160ZM180-180h160v-160H180v160Zm440 0h160v-160H620v160Z\"/>\n",
              "  </svg>\n",
              "    </button>\n",
              "\n",
              "  <style>\n",
              "    .colab-df-container {\n",
              "      display:flex;\n",
              "      gap: 12px;\n",
              "    }\n",
              "\n",
              "    .colab-df-convert {\n",
              "      background-color: #E8F0FE;\n",
              "      border: none;\n",
              "      border-radius: 50%;\n",
              "      cursor: pointer;\n",
              "      display: none;\n",
              "      fill: #1967D2;\n",
              "      height: 32px;\n",
              "      padding: 0 0 0 0;\n",
              "      width: 32px;\n",
              "    }\n",
              "\n",
              "    .colab-df-convert:hover {\n",
              "      background-color: #E2EBFA;\n",
              "      box-shadow: 0px 1px 2px rgba(60, 64, 67, 0.3), 0px 1px 3px 1px rgba(60, 64, 67, 0.15);\n",
              "      fill: #174EA6;\n",
              "    }\n",
              "\n",
              "    .colab-df-buttons div {\n",
              "      margin-bottom: 4px;\n",
              "    }\n",
              "\n",
              "    [theme=dark] .colab-df-convert {\n",
              "      background-color: #3B4455;\n",
              "      fill: #D2E3FC;\n",
              "    }\n",
              "\n",
              "    [theme=dark] .colab-df-convert:hover {\n",
              "      background-color: #434B5C;\n",
              "      box-shadow: 0px 1px 3px 1px rgba(0, 0, 0, 0.15);\n",
              "      filter: drop-shadow(0px 1px 2px rgba(0, 0, 0, 0.3));\n",
              "      fill: #FFFFFF;\n",
              "    }\n",
              "  </style>\n",
              "\n",
              "    <script>\n",
              "      const buttonEl =\n",
              "        document.querySelector('#df-0205d2ff-5a4b-4204-bf8b-f350c2d15127 button.colab-df-convert');\n",
              "      buttonEl.style.display =\n",
              "        google.colab.kernel.accessAllowed ? 'block' : 'none';\n",
              "\n",
              "      async function convertToInteractive(key) {\n",
              "        const element = document.querySelector('#df-0205d2ff-5a4b-4204-bf8b-f350c2d15127');\n",
              "        const dataTable =\n",
              "          await google.colab.kernel.invokeFunction('convertToInteractive',\n",
              "                                                    [key], {});\n",
              "        if (!dataTable) return;\n",
              "\n",
              "        const docLinkHtml = 'Like what you see? Visit the ' +\n",
              "          '<a target=\"_blank\" href=https://colab.research.google.com/notebooks/data_table.ipynb>data table notebook</a>'\n",
              "          + ' to learn more about interactive tables.';\n",
              "        element.innerHTML = '';\n",
              "        dataTable['output_type'] = 'display_data';\n",
              "        await google.colab.output.renderOutput(dataTable, element);\n",
              "        const docLink = document.createElement('div');\n",
              "        docLink.innerHTML = docLinkHtml;\n",
              "        element.appendChild(docLink);\n",
              "      }\n",
              "    </script>\n",
              "  </div>\n",
              "\n",
              "\n",
              "<div id=\"df-0c1eef2d-315b-44bf-8809-53e61558f4d9\">\n",
              "  <button class=\"colab-df-quickchart\" onclick=\"quickchart('df-0c1eef2d-315b-44bf-8809-53e61558f4d9')\"\n",
              "            title=\"Suggest charts\"\n",
              "            style=\"display:none;\">\n",
              "\n",
              "<svg xmlns=\"http://www.w3.org/2000/svg\" height=\"24px\"viewBox=\"0 0 24 24\"\n",
              "     width=\"24px\">\n",
              "    <g>\n",
              "        <path d=\"M19 3H5c-1.1 0-2 .9-2 2v14c0 1.1.9 2 2 2h14c1.1 0 2-.9 2-2V5c0-1.1-.9-2-2-2zM9 17H7v-7h2v7zm4 0h-2V7h2v10zm4 0h-2v-4h2v4z\"/>\n",
              "    </g>\n",
              "</svg>\n",
              "  </button>\n",
              "\n",
              "<style>\n",
              "  .colab-df-quickchart {\n",
              "      --bg-color: #E8F0FE;\n",
              "      --fill-color: #1967D2;\n",
              "      --hover-bg-color: #E2EBFA;\n",
              "      --hover-fill-color: #174EA6;\n",
              "      --disabled-fill-color: #AAA;\n",
              "      --disabled-bg-color: #DDD;\n",
              "  }\n",
              "\n",
              "  [theme=dark] .colab-df-quickchart {\n",
              "      --bg-color: #3B4455;\n",
              "      --fill-color: #D2E3FC;\n",
              "      --hover-bg-color: #434B5C;\n",
              "      --hover-fill-color: #FFFFFF;\n",
              "      --disabled-bg-color: #3B4455;\n",
              "      --disabled-fill-color: #666;\n",
              "  }\n",
              "\n",
              "  .colab-df-quickchart {\n",
              "    background-color: var(--bg-color);\n",
              "    border: none;\n",
              "    border-radius: 50%;\n",
              "    cursor: pointer;\n",
              "    display: none;\n",
              "    fill: var(--fill-color);\n",
              "    height: 32px;\n",
              "    padding: 0;\n",
              "    width: 32px;\n",
              "  }\n",
              "\n",
              "  .colab-df-quickchart:hover {\n",
              "    background-color: var(--hover-bg-color);\n",
              "    box-shadow: 0 1px 2px rgba(60, 64, 67, 0.3), 0 1px 3px 1px rgba(60, 64, 67, 0.15);\n",
              "    fill: var(--button-hover-fill-color);\n",
              "  }\n",
              "\n",
              "  .colab-df-quickchart-complete:disabled,\n",
              "  .colab-df-quickchart-complete:disabled:hover {\n",
              "    background-color: var(--disabled-bg-color);\n",
              "    fill: var(--disabled-fill-color);\n",
              "    box-shadow: none;\n",
              "  }\n",
              "\n",
              "  .colab-df-spinner {\n",
              "    border: 2px solid var(--fill-color);\n",
              "    border-color: transparent;\n",
              "    border-bottom-color: var(--fill-color);\n",
              "    animation:\n",
              "      spin 1s steps(1) infinite;\n",
              "  }\n",
              "\n",
              "  @keyframes spin {\n",
              "    0% {\n",
              "      border-color: transparent;\n",
              "      border-bottom-color: var(--fill-color);\n",
              "      border-left-color: var(--fill-color);\n",
              "    }\n",
              "    20% {\n",
              "      border-color: transparent;\n",
              "      border-left-color: var(--fill-color);\n",
              "      border-top-color: var(--fill-color);\n",
              "    }\n",
              "    30% {\n",
              "      border-color: transparent;\n",
              "      border-left-color: var(--fill-color);\n",
              "      border-top-color: var(--fill-color);\n",
              "      border-right-color: var(--fill-color);\n",
              "    }\n",
              "    40% {\n",
              "      border-color: transparent;\n",
              "      border-right-color: var(--fill-color);\n",
              "      border-top-color: var(--fill-color);\n",
              "    }\n",
              "    60% {\n",
              "      border-color: transparent;\n",
              "      border-right-color: var(--fill-color);\n",
              "    }\n",
              "    80% {\n",
              "      border-color: transparent;\n",
              "      border-right-color: var(--fill-color);\n",
              "      border-bottom-color: var(--fill-color);\n",
              "    }\n",
              "    90% {\n",
              "      border-color: transparent;\n",
              "      border-bottom-color: var(--fill-color);\n",
              "    }\n",
              "  }\n",
              "</style>\n",
              "\n",
              "  <script>\n",
              "    async function quickchart(key) {\n",
              "      const quickchartButtonEl =\n",
              "        document.querySelector('#' + key + ' button');\n",
              "      quickchartButtonEl.disabled = true;  // To prevent multiple clicks.\n",
              "      quickchartButtonEl.classList.add('colab-df-spinner');\n",
              "      try {\n",
              "        const charts = await google.colab.kernel.invokeFunction(\n",
              "            'suggestCharts', [key], {});\n",
              "      } catch (error) {\n",
              "        console.error('Error during call to suggestCharts:', error);\n",
              "      }\n",
              "      quickchartButtonEl.classList.remove('colab-df-spinner');\n",
              "      quickchartButtonEl.classList.add('colab-df-quickchart-complete');\n",
              "    }\n",
              "    (() => {\n",
              "      let quickchartButtonEl =\n",
              "        document.querySelector('#df-0c1eef2d-315b-44bf-8809-53e61558f4d9 button');\n",
              "      quickchartButtonEl.style.display =\n",
              "        google.colab.kernel.accessAllowed ? 'block' : 'none';\n",
              "    })();\n",
              "  </script>\n",
              "</div>\n",
              "\n",
              "    </div>\n",
              "  </div>\n"
            ],
            "text/plain": [
              "             Disease        Specialist  Symptom_1    Symptom_2  \\\n",
              "3338          Dengue  Internal Medcine  skin_rash       chills   \n",
              "2322       Pneumonia     Pulmonologist     chills      fatigue   \n",
              "1336    Hypertension     Cardiologist    headache   chest_pain   \n",
              "3738        Diabetes   Endocrinologist    fatigue  weight_loss   \n",
              "3270  Hypothyroidism   Endocrinologist    fatigue  weight_gain   \n",
              "\n",
              "                 Symptom_3        Symptom_4              Symptom_5  \\\n",
              "3338            joint_pain         vomiting                fatigue   \n",
              "2322                 cough       high_fever         breathlessness   \n",
              "1336             dizziness  loss_of_balance  lack_of_concentration   \n",
              "3738          restlessness         lethargy  irregular_sugar_level   \n",
              "3270  cold_hands_and_feets      mood_swings               lethargy   \n",
              "\n",
              "                         Symptom_6            Symptom_7         Symptom_8  \\\n",
              "3338                    high_fever             headache            nausea   \n",
              "2322                      sweating              malaise            phlegm   \n",
              "1336                           NaN                  NaN               NaN   \n",
              "3738  blurred_and_distorted_vision              obesity  excessive_hunger   \n",
              "3270                     dizziness  puffy_face_and_eyes  enlarged_thyroid   \n",
              "\n",
              "               Symptom_9            Symptom_10    Symptom_11    Symptom_12  \\\n",
              "3338    loss_of_appetite  pain_behind_the_eyes     back_pain       malaise   \n",
              "2322          chest_pain       fast_heart_rate  rusty_sputum           NaN   \n",
              "1336                 NaN                   NaN           NaN           NaN   \n",
              "3738  increased_appetite              polyuria           NaN           NaN   \n",
              "3270       brittle_nails   swollen_extremeties    depression  irritability   \n",
              "\n",
              "                 Symptom_13           Symptom_14 Symptom_15 Symptom_16  \\\n",
              "3338            muscle_pain  red_spots_over_body        NaN        NaN   \n",
              "2322                    NaN                  NaN        NaN        NaN   \n",
              "1336                    NaN                  NaN        NaN        NaN   \n",
              "3738                    NaN                  NaN        NaN        NaN   \n",
              "3270  abnormal_menstruation                  NaN        NaN        NaN   \n",
              "\n",
              "     Symptom_17                                            Symptom  \n",
              "3338        NaN  skin_rash chills joint_pain vomiting fatigue h...  \n",
              "2322        NaN  chills fatigue cough high_fever breathlessness...  \n",
              "1336        NaN  headache chest_pain dizziness loss_of_balance ...  \n",
              "3738        NaN  fatigue weight_loss restlessness lethargy irre...  \n",
              "3270        NaN  fatigue weight_gain cold_hands_and_feets mood_...  "
            ]
          },
          "execution_count": 7,
          "metadata": {},
          "output_type": "execute_result"
        }
      ],
      "source": [
        "disease_df_randomized = disease_df.sample(frac=1, random_state=52)\n",
        "\n",
        "disease_df_randomized.head()"
      ]
    },
    {
      "cell_type": "code",
      "execution_count": null,
      "id": "9a8216b0-d1dc-472d-b07d-1be03acd70a5",
      "metadata": {
        "colab": {
          "base_uri": "https://localhost:8080/"
        },
        "id": "9a8216b0-d1dc-472d-b07d-1be03acd70a5",
        "outputId": "d11b604a-15f3-47ac-8bf7-0e0dff033b2e"
      },
      "outputs": [
        {
          "name": "stdout",
          "output_type": "stream",
          "text": [
            "{'messages': [{'content': 'You are a helpful doctor. You are trying to '\n",
            "                          'diagnose disease based on symptoms.',\n",
            "               'role': 'system'},\n",
            "              {'content': '\\n'\n",
            "                          '\\n'\n",
            "                          'Symptom: skin_rash chills joint_pain vomiting '\n",
            "                          'fatigue high_fever headache nausea loss_of_appetite '\n",
            "                          'pain_behind_the_eyes back_pain malaise muscle_pain '\n",
            "                          'red_spots_over_body\\n'\n",
            "                          '\\n'\n",
            "                          'Disease & Specialization:',\n",
            "               'role': 'user'},\n",
            "              {'content': 'You possibly have Dengue and should see a Internal '\n",
            "                          'Medcine specialist',\n",
            "               'role': 'assistant'}]}\n"
          ]
        }
      ],
      "source": [
        "training_data = []\n",
        "\n",
        "system_message = \"You are a helpful doctor. You are trying to diagnose disease based on symptoms.\"\n",
        "\n",
        "def create_user_message(row):\n",
        "    return f\"\"\"\\n\\nSymptom: {row['Symptom']}\\n\\nDisease & Specialization:\"\"\"\n",
        "\n",
        "def prepare_example_conversation(row):\n",
        "    messages = []\n",
        "    messages.append({\"role\": \"system\", \"content\": system_message})\n",
        "\n",
        "    user_message = create_user_message(row)\n",
        "    messages.append({\"role\": \"user\", \"content\": user_message})\n",
        "\n",
        "    messages.append({\"role\": \"assistant\", \"content\": \"You possibly have \" + row[\"Disease\"] + \" and should see a \" + row['Specialist'] + \" specialist\"})\n",
        "\n",
        "    return {\"messages\": messages}\n",
        "\n",
        "pprint(prepare_example_conversation(disease_df_randomized.iloc[0]))"
      ]
    },
    {
      "cell_type": "markdown",
      "id": "_a_U7EczcVMZ",
      "metadata": {
        "id": "_a_U7EczcVMZ"
      },
      "source": [
        "# Data Training & Validation"
      ]
    },
    {
      "cell_type": "code",
      "execution_count": null,
      "id": "8f37aff9",
      "metadata": {
        "colab": {
          "base_uri": "https://localhost:8080/"
        },
        "id": "8f37aff9",
        "outputId": "c1a13fd8-a7ee-41b9-8732-4b4e31a6e3ce"
      },
      "outputs": [
        {
          "name": "stdout",
          "output_type": "stream",
          "text": [
            "{'messages': [{'role': 'system', 'content': 'You are a helpful doctor. You are trying to diagnose disease based on symptoms.'}, {'role': 'user', 'content': '\\n\\nSymptom: skin_rash chills joint_pain vomiting fatigue high_fever headache nausea loss_of_appetite pain_behind_the_eyes back_pain malaise muscle_pain red_spots_over_body\\n\\nDisease & Specialization:'}, {'role': 'assistant', 'content': 'You possibly have Dengue and should see a Internal Medcine specialist'}]}\n",
            "{'messages': [{'role': 'system', 'content': 'You are a helpful doctor. You are trying to diagnose disease based on symptoms.'}, {'role': 'user', 'content': '\\n\\nSymptom: chills fatigue cough high_fever breathlessness sweating malaise phlegm chest_pain fast_heart_rate rusty_sputum\\n\\nDisease & Specialization:'}, {'role': 'assistant', 'content': 'You possibly have Pneumonia and should see a Pulmonologist specialist'}]}\n",
            "{'messages': [{'role': 'system', 'content': 'You are a helpful doctor. You are trying to diagnose disease based on symptoms.'}, {'role': 'user', 'content': '\\n\\nSymptom: headache chest_pain dizziness loss_of_balance lack_of_concentration\\n\\nDisease & Specialization:'}, {'role': 'assistant', 'content': 'You possibly have Hypertension and should see a Cardiologist  specialist'}]}\n",
            "{'messages': [{'role': 'system', 'content': 'You are a helpful doctor. You are trying to diagnose disease based on symptoms.'}, {'role': 'user', 'content': '\\n\\nSymptom: fatigue weight_loss restlessness lethargy irregular_sugar_level blurred_and_distorted_vision obesity excessive_hunger increased_appetite polyuria\\n\\nDisease & Specialization:'}, {'role': 'assistant', 'content': 'You possibly have Diabetes and should see a Endocrinologist specialist'}]}\n",
            "{'messages': [{'role': 'system', 'content': 'You are a helpful doctor. You are trying to diagnose disease based on symptoms.'}, {'role': 'user', 'content': '\\n\\nSymptom: fatigue weight_gain cold_hands_and_feets mood_swings lethargy dizziness puffy_face_and_eyes enlarged_thyroid brittle_nails swollen_extremeties depression irritability abnormal_menstruation\\n\\nDisease & Specialization:'}, {'role': 'assistant', 'content': 'You possibly have Hypothyroidism and should see a Endocrinologist specialist'}]}\n"
          ]
        }
      ],
      "source": [
        "# use the first 100 rows of the dataset for training\n",
        "training_df = disease_df_randomized.iloc[0:3444]\n",
        "\n",
        "# apply the prepare_example_conversation function to each row of the training_df\n",
        "training_data = training_df.apply(prepare_example_conversation, axis=1).tolist()\n",
        "\n",
        "for example in training_data[:5]:\n",
        "    print(example)"
      ]
    },
    {
      "cell_type": "code",
      "execution_count": null,
      "id": "5b853efa-dfea-4770-ab88-9b7e17794421",
      "metadata": {
        "id": "5b853efa-dfea-4770-ab88-9b7e17794421"
      },
      "outputs": [],
      "source": [
        "validation_df = disease_df_randomized.iloc[3445:4920]\n",
        "validation_data = validation_df.apply(prepare_example_conversation, axis=1).tolist()"
      ]
    },
    {
      "cell_type": "code",
      "execution_count": null,
      "id": "8d2eb207-2c2b-43f6-a613-64a7e92d494d",
      "metadata": {
        "id": "8d2eb207-2c2b-43f6-a613-64a7e92d494d"
      },
      "outputs": [],
      "source": [
        "def write_jsonl(data_list: list, filename: str) -> None:\n",
        "    with open(filename, \"w\") as out:\n",
        "        for ddict in data_list:\n",
        "            jout = json.dumps(ddict) + \"\\n\"\n",
        "            out.write(jout)"
      ]
    },
    {
      "cell_type": "code",
      "execution_count": null,
      "id": "8b53e7a2-1cac-4c5f-8ba4-3292ba2a0770",
      "metadata": {
        "id": "8b53e7a2-1cac-4c5f-8ba4-3292ba2a0770"
      },
      "outputs": [],
      "source": [
        "training_file_name = \"tmp_disease_finetune_training.jsonl\"\n",
        "write_jsonl(training_data, training_file_name)\n",
        "\n",
        "validation_file_name = \"tmp_disease_finetune_validation.jsonl\"\n",
        "write_jsonl(validation_data, validation_file_name)"
      ]
    },
    {
      "cell_type": "code",
      "execution_count": null,
      "id": "283c4ec2",
      "metadata": {
        "colab": {
          "base_uri": "https://localhost:8080/"
        },
        "id": "283c4ec2",
        "outputId": "852b7fd4-c08d-4b8b-d4da-00750b0ecc7e"
      },
      "outputs": [
        {
          "name": "stdout",
          "output_type": "stream",
          "text": [
            "{\"messages\": [{\"role\": \"system\", \"content\": \"You are a helpful doctor. You are trying to diagnose disease based on symptoms.\"}, {\"role\": \"user\", \"content\": \"\\n\\nSymptom: skin_rash chills joint_pain vomiting fatigue high_fever headache nausea loss_of_appetite pain_behind_the_eyes back_pain malaise muscle_pain red_spots_over_body\\n\\nDisease & Specialization:\"}, {\"role\": \"assistant\", \"content\": \"You possibly have Dengue and should see a Internal Medcine specialist\"}]}\n",
            "{\"messages\": [{\"role\": \"system\", \"content\": \"You are a helpful doctor. You are trying to diagnose disease based on symptoms.\"}, {\"role\": \"user\", \"content\": \"\\n\\nSymptom: chills fatigue cough high_fever breathlessness sweating malaise phlegm chest_pain fast_heart_rate rusty_sputum\\n\\nDisease & Specialization:\"}, {\"role\": \"assistant\", \"content\": \"You possibly have Pneumonia and should see a Pulmonologist specialist\"}]}\n",
            "{\"messages\": [{\"role\": \"system\", \"content\": \"You are a helpful doctor. You are trying to diagnose disease based on symptoms.\"}, {\"role\": \"user\", \"content\": \"\\n\\nSymptom: headache chest_pain dizziness loss_of_balance lack_of_concentration\\n\\nDisease & Specialization:\"}, {\"role\": \"assistant\", \"content\": \"You possibly have Hypertension and should see a Cardiologist  specialist\"}]}\n",
            "{\"messages\": [{\"role\": \"system\", \"content\": \"You are a helpful doctor. You are trying to diagnose disease based on symptoms.\"}, {\"role\": \"user\", \"content\": \"\\n\\nSymptom: fatigue weight_loss restlessness lethargy irregular_sugar_level blurred_and_distorted_vision obesity excessive_hunger increased_appetite polyuria\\n\\nDisease & Specialization:\"}, {\"role\": \"assistant\", \"content\": \"You possibly have Diabetes and should see a Endocrinologist specialist\"}]}\n",
            "{\"messages\": [{\"role\": \"system\", \"content\": \"You are a helpful doctor. You are trying to diagnose disease based on symptoms.\"}, {\"role\": \"user\", \"content\": \"\\n\\nSymptom: fatigue weight_gain cold_hands_and_feets mood_swings lethargy dizziness puffy_face_and_eyes enlarged_thyroid brittle_nails swollen_extremeties depression irritability abnormal_menstruation\\n\\nDisease & Specialization:\"}, {\"role\": \"assistant\", \"content\": \"You possibly have Hypothyroidism and should see a Endocrinologist specialist\"}]}\n"
          ]
        }
      ],
      "source": [
        "# print the first 5 lines of the training file\n",
        "!head -n 5 tmp_disease_finetune_training.jsonl"
      ]
    },
    {
      "cell_type": "code",
      "execution_count": null,
      "id": "dRdciPER30uR",
      "metadata": {
        "colab": {
          "base_uri": "https://localhost:8080/"
        },
        "id": "dRdciPER30uR",
        "outputId": "8b98157d-fb62-47a0-d466-197330b8c350"
      },
      "outputs": [
        {
          "name": "stdout",
          "output_type": "stream",
          "text": [
            "{\"messages\": [{\"role\": \"system\", \"content\": \"You are a helpful doctor. You are trying to diagnose disease based on symptoms.\"}, {\"role\": \"user\", \"content\": \"\\n\\nSymptom: vomiting yellowish_skin abdominal_pain swelling_of_stomach distention_of_abdomen history_of_alcohol_consumption fluid_overload\\n\\nDisease & Specialization:\"}, {\"role\": \"assistant\", \"content\": \"You possibly have Alcoholic hepatitis and should see a Hepatologist specialist\"}]}\n",
            "{\"messages\": [{\"role\": \"system\", \"content\": \"You are a helpful doctor. You are trying to diagnose disease based on symptoms.\"}, {\"role\": \"user\", \"content\": \"\\n\\nSymptom: stomach_pain acidity ulcers_on_tongue cough chest_pain\\n\\nDisease & Specialization:\"}, {\"role\": \"assistant\", \"content\": \"You possibly have GERD and should see a Gastroenterologist specialist\"}]}\n",
            "{\"messages\": [{\"role\": \"system\", \"content\": \"You are a helpful doctor. You are trying to diagnose disease based on symptoms.\"}, {\"role\": \"user\", \"content\": \"\\n\\nSymptom: fatigue weight_gain cold_hands_and_feets mood_swings lethargy dizziness puffy_face_and_eyes enlarged_thyroid brittle_nails swollen_extremeties depression irritability abnormal_menstruation\\n\\nDisease & Specialization:\"}, {\"role\": \"assistant\", \"content\": \"You possibly have Hypothyroidism and should see a Endocrinologist specialist\"}]}\n",
            "{\"messages\": [{\"role\": \"system\", \"content\": \"You are a helpful doctor. You are trying to diagnose disease based on symptoms.\"}, {\"role\": \"user\", \"content\": \"\\n\\nSymptom: fatigue mood_swings weight_loss restlessness sweating diarrhoea fast_heart_rate excessive_hunger muscle_weakness irritability abnormal_menstruation\\n\\nDisease & Specialization:\"}, {\"role\": \"assistant\", \"content\": \"You possibly have Hyperthyroidism and should see a Endocrinologist specialist\"}]}\n",
            "{\"messages\": [{\"role\": \"system\", \"content\": \"You are a helpful doctor. You are trying to diagnose disease based on symptoms.\"}, {\"role\": \"user\", \"content\": \"\\n\\nSymptom: stomach_pain ulcers_on_tongue vomiting cough chest_pain\\n\\nDisease & Specialization:\"}, {\"role\": \"assistant\", \"content\": \"You possibly have GERD and should see a Gastroenterologist specialist\"}]}\n"
          ]
        }
      ],
      "source": [
        "!head -n 5 tmp_disease_finetune_validation.jsonl"
      ]
    },
    {
      "cell_type": "code",
      "execution_count": null,
      "id": "69462d9e-e6bd-49b9-a064-9eae4ea5b7a8",
      "metadata": {
        "colab": {
          "base_uri": "https://localhost:8080/"
        },
        "id": "69462d9e-e6bd-49b9-a064-9eae4ea5b7a8",
        "outputId": "93aa8b23-8e1a-4fc5-f777-7036abdcbe91"
      },
      "outputs": [
        {
          "name": "stdout",
          "output_type": "stream",
          "text": [
            "Training file ID: file-Bd8w35VK5sIwKQwY4eMW4AcT\n",
            "Validation file ID: file-fhNdpbtnPkgFeY9F69QWEuIf\n"
          ]
        }
      ],
      "source": [
        "with open(training_file_name, \"rb\") as training_fd:\n",
        "    training_response = client.files.create(\n",
        "        file=training_fd, purpose=\"fine-tune\"\n",
        "    )\n",
        "\n",
        "training_file_id = training_response.id\n",
        "\n",
        "with open(validation_file_name, \"rb\") as validation_fd:\n",
        "    validation_response = client.files.create(\n",
        "        file=validation_fd, purpose=\"fine-tune\"\n",
        "    )\n",
        "validation_file_id = validation_response.id\n",
        "\n",
        "print(\"Training file ID:\", training_file_id)\n",
        "print(\"Validation file ID:\", validation_file_id)"
      ]
    },
    {
      "cell_type": "code",
      "execution_count": null,
      "id": "05541ceb-5628-447e-962d-7e57c112439c",
      "metadata": {
        "colab": {
          "base_uri": "https://localhost:8080/"
        },
        "id": "05541ceb-5628-447e-962d-7e57c112439c",
        "outputId": "50dd66ab-5c4a-46b8-e762-f936f1034e3d"
      },
      "outputs": [
        {
          "name": "stdout",
          "output_type": "stream",
          "text": [
            "Job ID: ftjob-wQ4Af95nyigWjYTQLnG8JubI\n",
            "Status: validating_files\n"
          ]
        }
      ],
      "source": [
        "response = client.fine_tuning.jobs.create(\n",
        "    training_file=training_file_id,\n",
        "    validation_file=validation_file_id,\n",
        "    model=\"gpt-3.5-turbo\",\n",
        "    suffix=\"disease\",\n",
        ")\n",
        "\n",
        "job_id = response.id\n",
        "\n",
        "print(\"Job ID:\", response.id)\n",
        "print(\"Status:\", response.status)"
      ]
    },
    {
      "cell_type": "code",
      "execution_count": null,
      "id": "d7392f48",
      "metadata": {
        "colab": {
          "base_uri": "https://localhost:8080/"
        },
        "id": "d7392f48",
        "outputId": "16a3b741-fbf3-4e51-d883-f360117798b8"
      },
      "outputs": [
        {
          "name": "stdout",
          "output_type": "stream",
          "text": [
            "Job ID: ftjob-wQ4Af95nyigWjYTQLnG8JubI\n",
            "Status: succeeded\n",
            "Trained Tokens: 788832\n"
          ]
        }
      ],
      "source": [
        "response = client.fine_tuning.jobs.retrieve(job_id)\n",
        "\n",
        "print(\"Job ID:\", response.id)\n",
        "print(\"Status:\", response.status)\n",
        "print(\"Trained Tokens:\", response.trained_tokens)"
      ]
    },
    {
      "cell_type": "code",
      "execution_count": null,
      "id": "08cace28",
      "metadata": {
        "colab": {
          "base_uri": "https://localhost:8080/"
        },
        "id": "08cace28",
        "outputId": "77a6d85a-1472-4ad1-a2d3-6695bd58e142"
      },
      "outputs": [
        {
          "name": "stdout",
          "output_type": "stream",
          "text": [
            "Created fine-tuning job: ftjob-gFaudh6LganVwF4XbuNbTsrL\n",
            "Validating training file: file-AdQ5mrHucmfi2mrB83mmT6Gh and validation file: file-DU5yb4H2YnOghvcGWyCbju0J\n"
          ]
        }
      ],
      "source": [
        "response = client.fine_tuning.jobs.list_events(job_id)\n",
        "\n",
        "events = response.data\n",
        "events.reverse()\n",
        "\n",
        "for event in events:\n",
        "    print(event.message)"
      ]
    },
    {
      "cell_type": "code",
      "execution_count": null,
      "id": "40b28c26",
      "metadata": {
        "colab": {
          "base_uri": "https://localhost:8080/"
        },
        "id": "40b28c26",
        "outputId": "c4e229b8-e53b-4e64-df34-453ad1a09b71"
      },
      "outputs": [
        {
          "name": "stdout",
          "output_type": "stream",
          "text": [
            "Fine-tuned model ID: ft:gpt-3.5-turbo-0125:personal:disease:9NUwB8kX\n"
          ]
        }
      ],
      "source": [
        "response = client.fine_tuning.jobs.retrieve(job_id)\n",
        "fine_tuned_model_id = response.fine_tuned_model\n",
        "\n",
        "if fine_tuned_model_id is None:\n",
        "    raise RuntimeError(\"Fine-tuned model ID not found. Your job has likely not been completed yet.\")\n",
        "\n",
        "print(\"Fine-tuned model ID:\", fine_tuned_model_id)"
      ]
    },
    {
      "cell_type": "markdown",
      "id": "YYD_up4qPs8N",
      "metadata": {
        "id": "YYD_up4qPs8N"
      },
      "source": [
        "# Model Test"
      ]
    },
    {
      "cell_type": "code",
      "execution_count": null,
      "id": "1c7de631-b68f-4eff-9ae7-051641579c2b",
      "metadata": {
        "colab": {
          "base_uri": "https://localhost:8080/"
        },
        "id": "1c7de631-b68f-4eff-9ae7-051641579c2b",
        "outputId": "ff5ffee8-fbc6-4812-bbb8-53101b4721df"
      },
      "outputs": [
        {
          "name": "stdout",
          "output_type": "stream",
          "text": [
            "[{'content': 'You are a helpful doctor. You are trying to diagnose disease '\n",
            "             'based on symptoms.',\n",
            "  'role': 'system'},\n",
            " {'content': 'Specialist: Hepatologist\\n'\n",
            "             '\\n'\n",
            "             'Symptom: itching fatigue lethargy yellowish_skin dark_urine '\n",
            "             'loss_of_appetite abdominal_pain yellow_urine yellowing_of_eyes '\n",
            "             'malaise receiving_blood_transfusion '\n",
            "             'receiving_unsterile_injections itching fatigue lethargy '\n",
            "             'yellowish_skin dark_urine loss_of_appetite abdominal_pain '\n",
            "             'yellow_urine yellowing_of_eyes malaise '\n",
            "             'receiving_blood_transfusion receiving_unsterile_injections\\n'\n",
            "             '\\n'\n",
            "             'Disease: ',\n",
            "  'role': 'user'}]\n"
          ]
        }
      ],
      "source": [
        "test_df = disease_df.loc[201:300]\n",
        "test_row = test_df.iloc[0]\n",
        "test_messages = []\n",
        "test_messages.append({\"role\": \"system\", \"content\": system_message})\n",
        "user_message = create_user_message(test_row)\n",
        "test_messages.append({\"role\": \"user\", \"content\": user_message})\n",
        "\n",
        "pprint(test_messages)"
      ]
    },
    {
      "cell_type": "code",
      "execution_count": null,
      "id": "xoVJ0ganEweq",
      "metadata": {
        "colab": {
          "base_uri": "https://localhost:8080/"
        },
        "id": "xoVJ0ganEweq",
        "outputId": "47f92605-ac91-4bd4-fc8c-62a8290f1155"
      },
      "outputs": [
        {
          "name": "stdout",
          "output_type": "stream",
          "text": [
            "[{'content': 'You are a helpful doctor. You are trying to diagnose disease '\n",
            "             'based on symptoms.',\n",
            "  'role': 'system'},\n",
            " {'content': 'Specialist: Cardiologist\\n'\n",
            "             '\\n'\n",
            "             'Symptom: vomiting breathlessness sweating vomiting '\n",
            "             'breathlessness sweating\\n'\n",
            "             '\\n'\n",
            "             'Disease: ',\n",
            "  'role': 'user'}]\n"
          ]
        }
      ],
      "source": [
        "test_row = test_df.iloc[94]\n",
        "test_messages = []\n",
        "test_messages.append({\"role\": \"system\", \"content\": system_message})\n",
        "user_message = create_user_message(test_row)\n",
        "test_messages.append({\"role\": \"user\", \"content\": user_message})\n",
        "\n",
        "pprint(test_messages)"
      ]
    },
    {
      "cell_type": "code",
      "execution_count": 18,
      "id": "1a1d2589",
      "metadata": {
        "colab": {
          "base_uri": "https://localhost:8080/"
        },
        "id": "1a1d2589",
        "outputId": "a3e385ba-1bce-49d2-f9cc-0a7c04a1b1d6"
      },
      "outputs": [
        {
          "name": "stdout",
          "output_type": "stream",
          "text": [
            "You possibly have Malaria. See a Internal Medcine specialist. Before seeing the Internal Medcine specialist, take a Anti-malarial medication and a Mosquito repellent.\n"
          ]
        }
      ],
      "source": [
        "#fine_tuned_model_id = \"ft:gpt-3.5-turbo-0125:personal:disease:9NUwB8kX\"\n",
        "\n",
        "fine_tuned_model_id = \"\"\n",
        "\n",
        "prompt = \"What disease? Which specialist should I consult? What should I do before seeing the doctor? The symptoms I am experiencing are I have chills, vomiting, high fever, sweating, headache nausea, and muscle_pain.\"\n",
        "test_messages = [\n",
        "    {\n",
        "        \"role\": \"user\",\n",
        "        \"content\": prompt\n",
        "    }\n",
        "]\n",
        "response = client.chat.completions.create(\n",
        "    model=fine_tuned_model_id, messages=test_messages, temperature=0, max_tokens=500\n",
        ")\n",
        "print(response.choices[0].message.content)"
      ]
    }
  ],
  "metadata": {
    "colab": {
      "provenance": []
    },
    "kernelspec": {
      "display_name": "Python 3",
      "language": "python",
      "name": "python3"
    },
    "language_info": {
      "codemirror_mode": {
        "name": "ipython",
        "version": 3
      },
      "file_extension": ".py",
      "mimetype": "text/x-python",
      "name": "python",
      "nbconvert_exporter": "python",
      "pygments_lexer": "ipython3",
      "version": "3.11.3"
    }
  },
  "nbformat": 4,
  "nbformat_minor": 5
}
